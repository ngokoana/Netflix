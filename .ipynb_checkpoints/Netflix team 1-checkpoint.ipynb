{
 "cells": [
  {
   "cell_type": "markdown",
   "id": "87edb214-bf89-4447-bdf9-3cd1e2235369",
   "metadata": {},
   "source": [
    "# Netflix -Team 1- presentation\n"
   ]
  },
  {
   "cell_type": "markdown",
   "id": "6bc039ba-4f20-4a18-a86c-64e30db4313e",
   "metadata": {},
   "source": [
    "### Introduction\n",
    "Given the Netflix titles dataset with the following column titles:\n",
    "\n",
    "* show_id\n",
    "* type\n",
    "* title\n",
    "* director\n",
    "* cast\n",
    "* country\n",
    "* date_added\n",
    "* release_year\n",
    "* rating\n",
    "* duration\n",
    "* listed_in\n",
    "* description\n",
    "### We aim to obtain the following information/relationships from our dataset:\n",
    "\n",
    "#### Country-based analysis\n",
    "We will analyze the distribution of content by country of production to understand Netflix's international content selection. This can be done by counting the number of titles in each country and plotting the results. We can also look at the average rating and duration of titles in each country.\n",
    "#### Genre analysis\n",
    "We will analyze the distribution of content by genre using the listed_in column to identify the most popular genres on Netflix. This can be done by counting the number of titles in each genre and plotting the results. We can also look at the average rating and duration of titles in each genre.\n",
    "#### Director insights\n",
    "We will explore the works of different directors, finding out which directors have the most content on Netflix, or analyzing the popularity of content by specific directors. This can be done by counting the number of titles directed by each director and plotting the results. We can also look at the average rating and duration of titles directed by each director"
   ]
  },
  {
   "cell_type": "code",
   "execution_count": 1,
   "id": "6c7f1663-0dfd-4ea8-9ba8-42efb6388f8d",
   "metadata": {},
   "outputs": [],
   "source": [
    "import numpy as np\n",
    "import pandas as pd"
   ]
  },
  {
   "cell_type": "code",
   "execution_count": 2,
   "id": "f0a36ec3-fb9a-4983-bb05-150c717c666d",
   "metadata": {},
   "outputs": [
    {
     "name": "stdout",
     "output_type": "stream",
     "text": [
      "Requirement already satisfied: matplotlib in /Users/ngokoana/opt/anaconda3/lib/python3.9/site-packages (3.5.1)\n",
      "Requirement already satisfied: pyparsing>=2.2.1 in /Users/ngokoana/opt/anaconda3/lib/python3.9/site-packages (from matplotlib) (3.0.4)\n",
      "Requirement already satisfied: pillow>=6.2.0 in /Users/ngokoana/opt/anaconda3/lib/python3.9/site-packages (from matplotlib) (9.0.1)\n",
      "Requirement already satisfied: kiwisolver>=1.0.1 in /Users/ngokoana/opt/anaconda3/lib/python3.9/site-packages (from matplotlib) (1.3.2)\n",
      "Requirement already satisfied: numpy>=1.17 in /Users/ngokoana/opt/anaconda3/lib/python3.9/site-packages (from matplotlib) (1.21.5)\n",
      "Requirement already satisfied: python-dateutil>=2.7 in /Users/ngokoana/opt/anaconda3/lib/python3.9/site-packages (from matplotlib) (2.8.2)\n",
      "Requirement already satisfied: packaging>=20.0 in /Users/ngokoana/opt/anaconda3/lib/python3.9/site-packages (from matplotlib) (21.3)\n",
      "Requirement already satisfied: fonttools>=4.22.0 in /Users/ngokoana/opt/anaconda3/lib/python3.9/site-packages (from matplotlib) (4.25.0)\n",
      "Requirement already satisfied: cycler>=0.10 in /Users/ngokoana/opt/anaconda3/lib/python3.9/site-packages (from matplotlib) (0.11.0)\n",
      "Requirement already satisfied: six>=1.5 in /Users/ngokoana/opt/anaconda3/lib/python3.9/site-packages (from python-dateutil>=2.7->matplotlib) (1.16.0)\n",
      "Note: you may need to restart the kernel to use updated packages.\n"
     ]
    }
   ],
   "source": [
    "pip install matplotlib"
   ]
  },
  {
   "cell_type": "markdown",
   "id": "7ce918cf-1080-453c-967f-c79be30d70dd",
   "metadata": {},
   "source": [
    "### Importing data set into note for data wrangling"
   ]
  },
  {
   "cell_type": "code",
   "execution_count": 1,
   "id": "37aa37fd-2bb8-463a-9461-204fd03d1486",
   "metadata": {},
   "outputs": [
    {
     "data": {
      "text/html": [
       "<div>\n",
       "<style scoped>\n",
       "    .dataframe tbody tr th:only-of-type {\n",
       "        vertical-align: middle;\n",
       "    }\n",
       "\n",
       "    .dataframe tbody tr th {\n",
       "        vertical-align: top;\n",
       "    }\n",
       "\n",
       "    .dataframe thead th {\n",
       "        text-align: right;\n",
       "    }\n",
       "</style>\n",
       "<table border=\"1\" class=\"dataframe\">\n",
       "  <thead>\n",
       "    <tr style=\"text-align: right;\">\n",
       "      <th></th>\n",
       "      <th>show_id</th>\n",
       "      <th>type</th>\n",
       "      <th>title</th>\n",
       "      <th>director</th>\n",
       "      <th>cast</th>\n",
       "      <th>country</th>\n",
       "      <th>date_added</th>\n",
       "      <th>release_year</th>\n",
       "      <th>rating</th>\n",
       "      <th>duration</th>\n",
       "      <th>listed_in</th>\n",
       "      <th>description</th>\n",
       "    </tr>\n",
       "  </thead>\n",
       "  <tbody>\n",
       "    <tr>\n",
       "      <th>0</th>\n",
       "      <td>s1</td>\n",
       "      <td>Movie</td>\n",
       "      <td>Dick Johnson Is Dead</td>\n",
       "      <td>Kirsten Johnson</td>\n",
       "      <td>NaN</td>\n",
       "      <td>United States</td>\n",
       "      <td>September 25, 2021</td>\n",
       "      <td>2020</td>\n",
       "      <td>PG-13</td>\n",
       "      <td>90 min</td>\n",
       "      <td>Documentaries</td>\n",
       "      <td>As her father nears the end of his life, filmm...</td>\n",
       "    </tr>\n",
       "    <tr>\n",
       "      <th>1</th>\n",
       "      <td>s2</td>\n",
       "      <td>TV Show</td>\n",
       "      <td>Blood &amp; Water</td>\n",
       "      <td>NaN</td>\n",
       "      <td>Ama Qamata, Khosi Ngema, Gail Mabalane, Thaban...</td>\n",
       "      <td>South Africa</td>\n",
       "      <td>September 24, 2021</td>\n",
       "      <td>2021</td>\n",
       "      <td>TV-MA</td>\n",
       "      <td>2 Seasons</td>\n",
       "      <td>International TV Shows, TV Dramas, TV Mysteries</td>\n",
       "      <td>After crossing paths at a party, a Cape Town t...</td>\n",
       "    </tr>\n",
       "    <tr>\n",
       "      <th>2</th>\n",
       "      <td>s3</td>\n",
       "      <td>TV Show</td>\n",
       "      <td>Ganglands</td>\n",
       "      <td>Julien Leclercq</td>\n",
       "      <td>Sami Bouajila, Tracy Gotoas, Samuel Jouy, Nabi...</td>\n",
       "      <td>NaN</td>\n",
       "      <td>September 24, 2021</td>\n",
       "      <td>2021</td>\n",
       "      <td>TV-MA</td>\n",
       "      <td>1 Season</td>\n",
       "      <td>Crime TV Shows, International TV Shows, TV Act...</td>\n",
       "      <td>To protect his family from a powerful drug lor...</td>\n",
       "    </tr>\n",
       "    <tr>\n",
       "      <th>3</th>\n",
       "      <td>s4</td>\n",
       "      <td>TV Show</td>\n",
       "      <td>Jailbirds New Orleans</td>\n",
       "      <td>NaN</td>\n",
       "      <td>NaN</td>\n",
       "      <td>NaN</td>\n",
       "      <td>September 24, 2021</td>\n",
       "      <td>2021</td>\n",
       "      <td>TV-MA</td>\n",
       "      <td>1 Season</td>\n",
       "      <td>Docuseries, Reality TV</td>\n",
       "      <td>Feuds, flirtations and toilet talk go down amo...</td>\n",
       "    </tr>\n",
       "    <tr>\n",
       "      <th>4</th>\n",
       "      <td>s5</td>\n",
       "      <td>TV Show</td>\n",
       "      <td>Kota Factory</td>\n",
       "      <td>NaN</td>\n",
       "      <td>Mayur More, Jitendra Kumar, Ranjan Raj, Alam K...</td>\n",
       "      <td>India</td>\n",
       "      <td>September 24, 2021</td>\n",
       "      <td>2021</td>\n",
       "      <td>TV-MA</td>\n",
       "      <td>2 Seasons</td>\n",
       "      <td>International TV Shows, Romantic TV Shows, TV ...</td>\n",
       "      <td>In a city of coaching centers known to train I...</td>\n",
       "    </tr>\n",
       "  </tbody>\n",
       "</table>\n",
       "</div>"
      ],
      "text/plain": [
       "  show_id     type                  title         director  \\\n",
       "0      s1    Movie   Dick Johnson Is Dead  Kirsten Johnson   \n",
       "1      s2  TV Show          Blood & Water              NaN   \n",
       "2      s3  TV Show              Ganglands  Julien Leclercq   \n",
       "3      s4  TV Show  Jailbirds New Orleans              NaN   \n",
       "4      s5  TV Show           Kota Factory              NaN   \n",
       "\n",
       "                                                cast        country  \\\n",
       "0                                                NaN  United States   \n",
       "1  Ama Qamata, Khosi Ngema, Gail Mabalane, Thaban...   South Africa   \n",
       "2  Sami Bouajila, Tracy Gotoas, Samuel Jouy, Nabi...            NaN   \n",
       "3                                                NaN            NaN   \n",
       "4  Mayur More, Jitendra Kumar, Ranjan Raj, Alam K...          India   \n",
       "\n",
       "           date_added  release_year rating   duration  \\\n",
       "0  September 25, 2021          2020  PG-13     90 min   \n",
       "1  September 24, 2021          2021  TV-MA  2 Seasons   \n",
       "2  September 24, 2021          2021  TV-MA   1 Season   \n",
       "3  September 24, 2021          2021  TV-MA   1 Season   \n",
       "4  September 24, 2021          2021  TV-MA  2 Seasons   \n",
       "\n",
       "                                           listed_in  \\\n",
       "0                                      Documentaries   \n",
       "1    International TV Shows, TV Dramas, TV Mysteries   \n",
       "2  Crime TV Shows, International TV Shows, TV Act...   \n",
       "3                             Docuseries, Reality TV   \n",
       "4  International TV Shows, Romantic TV Shows, TV ...   \n",
       "\n",
       "                                         description  \n",
       "0  As her father nears the end of his life, filmm...  \n",
       "1  After crossing paths at a party, a Cape Town t...  \n",
       "2  To protect his family from a powerful drug lor...  \n",
       "3  Feuds, flirtations and toilet talk go down amo...  \n",
       "4  In a city of coaching centers known to train I...  "
      ]
     },
     "execution_count": 1,
     "metadata": {},
     "output_type": "execute_result"
    }
   ],
   "source": [
    "import pandas as pd\n",
    "\n",
    "netflix_titles = \"/Users/ngokoana/Downloads/netflix_titles.csv\"\n",
    "df = pd.read_csv(netflix_titles)\n",
    "df.head()"
   ]
  },
  {
   "cell_type": "markdown",
   "id": "eacdea34-d6e7-4818-980f-1cfc0918d30d",
   "metadata": {},
   "source": [
    "### Country-based analysis\n",
    "Here we will analyze the distribution of content by country of production to understand Netflix's international content selection.\n",
    "\n",
    "analyses here shows that over between the years 2013 - 2021, the countithe Unites states, India, UK have the most content added on Netflix "
   ]
  },
  {
   "cell_type": "code",
   "execution_count": 27,
   "id": "f00f2943-c580-48ce-afb2-0d2d2ba9a7e2",
   "metadata": {},
   "outputs": [],
   "source": [
    "import pandas as pd\n",
    "netflix_titles = \"/Users/ngokoana/Downloads/netflix_titles.csv\"\n",
    "df = pd.read_csv(netflix_titles)\n",
    "def get_top_countries(df):\n",
    "    df['country'] = df['country'].str.split(', ')\n",
    "    df = df.explode('country')\n",
    "    count_per_country = df.groupby('country')['show_id'].nunique()\n",
    "\n",
    "    count_per_country = count_per_country.sort_values(ascending= False)\n",
    "    top_countries = count_per_country.head(20)\n",
    "    return(top_countries)"
   ]
  },
  {
   "cell_type": "code",
   "execution_count": 28,
   "id": "be255718",
   "metadata": {},
   "outputs": [
    {
     "name": "stdout",
     "output_type": "stream",
     "text": [
      "country\n",
      "United States     3689\n",
      "India             1046\n",
      "United Kingdom     804\n",
      "Canada             445\n",
      "France             393\n",
      "Japan              318\n",
      "Spain              232\n",
      "South Korea        231\n",
      "Germany            226\n",
      "Mexico             169\n",
      "China              162\n",
      "Australia          160\n",
      "Egypt              117\n",
      "Turkey             113\n",
      "Hong Kong          105\n",
      "Nigeria            103\n",
      "Italy              100\n",
      "Brazil              97\n",
      "Argentina           91\n",
      "Indonesia           90\n",
      "Name: show_id, dtype: int64\n"
     ]
    }
   ],
   "source": [
    "print(top_countries)"
   ]
  },
  {
   "cell_type": "code",
   "execution_count": 35,
   "id": "979a32c8",
   "metadata": {},
   "outputs": [
    {
     "data": {
      "image/png": "[encoded data removed]",
      "text/plain": [
       "<Figure size 1152x576 with 1 Axes>"
      ]
     },
     "metadata": {
      "needs_background": "light"
     },
     "output_type": "display_data"
    }
   ],
   "source": [
    "import matplotlib.pyplot as plt\n",
    "plt.figure(figsize=(16, 8))  # Adjust the figure size as needed\n",
    "top_countries.plot(kind='bar', color='blue')\n",
    "plt.title('Number of Shows on Netflix by Country')\n",
    "plt.xlabel('Country')\n",
    "plt.ylabel('Number of Shows')\n",
    "plt.xticks(rotation=90)  # Rotate x-axis labels for better readability\n",
    "plt.tight_layout()\n",
    "\n",
    "# Display the graph\n",
    "plt.show()"
   ]
  },
  {
   "cell_type": "code",
   "execution_count": null,
   "id": "fff503a0-5dae-44af-a2e9-d1d0a0b6f1cc",
   "metadata": {},
   "outputs": [],
   "source": []
  },
  {
   "cell_type": "code",
   "execution_count": null,
   "id": "3fa02ee6",
   "metadata": {},
   "outputs": [],
   "source": []
  }
 ],
 "metadata": {
  "kernelspec": {
   "display_name": "Python 3 (ipykernel)",
   "language": "python",
   "name": "python3"
  },
  "language_info": {
   "codemirror_mode": {
    "name": "ipython",
    "version": 3
   },
   "file_extension": ".py",
   "mimetype": "text/x-python",
   "name": "python",
   "nbconvert_exporter": "python",
   "pygments_lexer": "ipython3",
   "version": "3.9.13"
  }
 },
 "nbformat": 4,
 "nbformat_minor": 5
}
